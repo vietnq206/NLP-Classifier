{
 "cells": [
  {
   "cell_type": "code",
   "execution_count": 1,
   "outputs": [],
   "source": [
    "import os, string, re\n",
    "import glob\n",
    "import numpy as np\n",
    "from sklearn.metrics import *\n",
    "from sklearn.feature_extraction.text import TfidfVectorizer\n",
    "from sklearn import svm\n",
    "from numpy import mean\n",
    "from numpy import std\n",
    "from sklearn.datasets import make_classification\n",
    "from sklearn.model_selection import KFold\n",
    "from sklearn.model_selection import cross_val_score\n",
    "from nltk.stem import PorterStemmer\n",
    "from nltk.tokenize import word_tokenize"
   ],
   "metadata": {
    "collapsed": false,
    "pycharm": {
     "name": "#%%\n"
    }
   }
  },
  {
   "cell_type": "code",
   "execution_count": 2,
   "outputs": [],
   "source": [
    "ENGLISH_STOP_WORDS = ['my', 'between', 'others', 'more', 'thence', 'none', 'these', 'was', 'which', 'most', 'forty', 'do', 'hasnt', 'for', 'found', 'fifteen', 'anything', 'became', 'fifty', 'being', 'someone', 'sincere', 'latterly', 'somewhere', 'describe', 'up', 'whereas', 'become', 'over', 'system', 'there', 'perhaps', 'only', 'go', 'to', 'yet', 'part', 'the', 'amongst', 'nine', 'hereupon', 'of', 'against', 'under', 'every', 'first', 'however', 'why', 'such', 'nowhere', 'give', 'as', 'around', 'will', 'since', 'name', 'thick', 'yours', 'already', 'see', 'it', 'detail', 'so', 'then', 'anywhere', 'seeming', 'thru', 'behind', 'eight', 'am', 'both', 'whereby', 'hereafter', 'further', 'here', 'must', 'five', 'any', 'moreover', 'after', 'etc', 'also', 'cannot', 'some', 'one', 'once', 'across', 'where', 'formerly', 'well', 'show', 'via', 'from', 'themselves', 'yourselves', 'co', 'nevertheless', 'that', 'next', 'many', 'front', 'due', 'own', 'therefore', 'could', 'very', 'same', 'else', 'several', 'beside', 'alone', 'whenever', 'latter', 'in', 'without', 'because', 'anyone', 'wherein', 'anyhow', 'mill', 'can', 'fire', 'thus', 'though', 'everyone', 'least', 'side', 'how', 'into', 'before', 'thin', 'hundred', 'neither', 'has', 'himself', 'never', 'together', 'inc', 'thereupon', 'a', 'top', 'is', 'noone', 'done', 'fill', 'everywhere', 'onto', 'nobody', 'within', 'always', 'please', 'are', 'at', 'other', 'seemed', 'no', 'an', 'had', 'another', 'amount', 'below', 'he', 'mine', 'along', 'those', 'ourselves', 'each', 'should', 'thereafter', 'interest', 'not', 'this', 'all', 'rather', 'down', 'have', 'herself', 'sometimes', 'afterwards', 'cry', 'four', 'their', 'upon', 'amoungst', 'namely', 'serious', 'whole', 'twelve', 'above', 'meanwhile', 'eg', 'her', 'mostly', 'through', 'un', 'whereupon', 'six', 'find', 'elsewhere', 'beforehand', 'them', 'been', 'full', 'his', 'everything', 'among', 'toward', 'put', 'nor', 'besides', 'even', 'back', 'be', 'we', 'whereafter', 'myself', 'per', 'its', 'whether', 'eleven', 'empty', 'herein', 'de', 'couldnt', 'who', 'hers', 'too', 'whatever', 'and', 'con', 'yourself', 'whose', 'ie', 'indeed', 'throughout', 'might', 'ltd', 'your', 'wherever', 'take', 'sixty', 'sometime', 'she', 'until', 'ours', 'him', 'during', 'thereby', 'otherwise', 'again', 'were', 'if', 'whither', 'cant', 'three', 'i', 'hence', 'when', 're', 'on', 'seems', 'us', 'whoever', 'hereby', 'our', 'you', 'often', 'twenty', 'off', 'two', 'but', 'few', 'although', 'bottom', 'out', 'about', 'than', 'still', 'or', 'becoming', 'towards', 'last', 'whence', 'enough', 'much', 'may', 'itself', 'less', 'almost', 'get', 'except', 'therein', 'third', 'bill', 'me', 'something', 'made', 'ever', 'what', 'while', 'former', 'anyway', 'becomes', 'by', 'beyond', 'keep', 'nothing', 'move', 'with', 'now', 'seem', 'would', 'call', 'ten', 'they', 'either', 'somehow', 'whom']\n"
   ],
   "metadata": {
    "collapsed": false,
    "pycharm": {
     "name": "#%%\n"
    }
   }
  },
  {
   "cell_type": "code",
   "execution_count": 3,
   "outputs": [],
   "source": [
    "path_dataset ='data_set'"
   ],
   "metadata": {
    "collapsed": false,
    "pycharm": {
     "name": "#%%\n"
    }
   }
  },
  {
   "cell_type": "code",
   "execution_count": 4,
   "outputs": [],
   "source": [
    "# Preprocessing step\n",
    "def basic_processing(text):\n",
    "    text = re.sub('-{2,}','',text)\n",
    "    patURL = r\"(?:http://|www.)[^\\\"]+\"\n",
    "    text = re.sub(patURL,'website',text)\n",
    "    text = re.sub('\\.+','.',text)\n",
    "    text = re.sub('\\\\s+',' ',text)\n",
    "    return text\n",
    "\n",
    "def stemSentence(sentence):\n",
    "    porter = PorterStemmer()\n",
    "    token_words=word_tokenize(sentence)\n",
    "    token_words\n",
    "    stem_sentence=[]\n",
    "    for word in token_words:\n",
    "        stem_sentence.append(porter.stem(word))\n",
    "        stem_sentence.append(\" \")\n",
    "    return \"\".join(stem_sentence)\n",
    "\n",
    "# remove stopword\n",
    "def remove_stopwords(text):\n",
    "    stop_words = list(ENGLISH_STOP_WORDS)\n",
    "    tokens = text.split(\" \")\n",
    "    result = [i for i in tokens if not i in stop_words]\n",
    "    return \" \".join(result)\n",
    "\n",
    "def clean_doc(text):\n",
    "    text = stemSentence(text)\n",
    "    # apply basic preprocessing\n",
    "    text = basic_processing(text)\n",
    "    # Remove stop word in the text\n",
    "    text = remove_stopwords(text)\n",
    "    # Lower case\n",
    "    text = text.lower()\n",
    "    # multiple spaces removal\n",
    "    text = re.sub(r\"\\?\", \" \\? \", text)\n",
    "    # Remove number in the text\n",
    "    text = re.sub(r\"[0-9]+\", \" \", text)\n",
    "    # Remove punctuation\n",
    "    for punc in string.punctuation:\n",
    "        text = text.replace(punc,' ')\n",
    "    text = re.sub('\\\\s+',' ',text)\n",
    "    \n",
    "    return text"
   ],
   "metadata": {
    "collapsed": false,
    "pycharm": {
     "name": "#%%\n"
    }
   }
  },
  {
   "cell_type": "code",
   "execution_count": 5,
   "outputs": [
    {
     "name": "stdout",
     "output_type": "stream",
     "text": [
      "Label:  business\n",
      "Label:  entertainment\n",
      "Label:  politics\n",
      "Label:  sport\n",
      "Label:  tech\n"
     ]
    }
   ],
   "source": [
    "# Function : read dataset from the folder\n",
    "def read_data(folder_path):\n",
    "    documents = []\n",
    "    labels = []\n",
    "    for category in os.listdir(folder_path):\n",
    "        print(\"Label: \", category)\n",
    "        path_new = folder_path+ \"/\"+category + \"/*.txt\"\n",
    "        for filename in glob.glob(path_new):\n",
    "            with open(filename,'r',encoding=\"utf-8\") as file:\n",
    "              try:\n",
    "                  content = file.read()\n",
    "                  documents.append(content)\n",
    "                  labels.append(category)\n",
    "              except:\n",
    "                  print(filename)\n",
    "    return documents, labels\n",
    "\n",
    "X_data, y_data = read_data(path_dataset)"
   ],
   "metadata": {
    "collapsed": false,
    "pycharm": {
     "name": "#%%\n"
    }
   }
  },
  {
   "cell_type": "code",
   "execution_count": 6,
   "outputs": [
    {
     "name": "stdout",
     "output_type": "stream",
     "text": [
      "1602 1602\n"
     ]
    }
   ],
   "source": [
    "# Show the size of dataset\n",
    "print(len(X_data),len(y_data))"
   ],
   "metadata": {
    "collapsed": false,
    "pycharm": {
     "name": "#%%\n"
    }
   }
  },
  {
   "cell_type": "code",
   "execution_count": 7,
   "outputs": [
    {
     "name": "stdout",
     "output_type": "stream",
     "text": [
      "Ad sales boost Time Warner profit\n",
      "\n",
      "Quarterly profits at US media giant TimeWarner jumped 76% to $1.13bn (£600m) for the three months to December, from $639m year-earlier.\n",
      "\n",
      "The firm, which is now one of the biggest investors in Google, benefited from sales of high-speed internet connections and higher advert sales. TimeWarner said fourth quarter sales rose 2% to $11.1bn from $10.9bn. Its profits were buoyed by one-off gains which offset a profit dip at Warner Bros, and less users for AOL.\n",
      "\n",
      "Time Warner said on Friday that it now owns 8% of search-engine Google. But its own internet business, AOL, had has mixed fortunes. It lost 464,000 subscribers in the fourth quarter profits were lower than in the preceding three quarters. However, the company said AOL's underlying profit before exceptional items rose 8% on the back of stronger internet advertising revenues. It hopes to increase subscribers by offering the online service free to TimeWarner internet customers and will try to sign up AOL's existing customers for high-speed broadband. TimeWarner also has to restate 2000 and 2003 results following a probe by the US Securities Exchange Commission (SEC), which is close to concluding.\n",
      "\n",
      "Time Warner's fourth quarter profits were slightly better than analysts' expectations. But its film division saw profits slump 27% to $284m, helped by box-office flops Alexander and Catwoman, a sharp contrast to year-earlier, when the third and final film in the Lord of the Rings trilogy boosted results. For the full-year, TimeWarner posted a profit of $3.36bn, up 27% from its 2003 performance, while revenues grew 6.4% to $42.09bn. \"Our financial performance was strong, meeting or exceeding all of our full-year objectives and greatly enhancing our flexibility,\" chairman and chief executive Richard Parsons said. For 2005, TimeWarner is projecting operating earnings growth of around 5%, and also expects higher revenue and wider profit margins.\n",
      "\n",
      "TimeWarner is to restate its accounts as part of efforts to resolve an inquiry into AOL by US market regulators. It has already offered to pay $300m to settle charges, in a deal that is under review by the SEC. The company said it was unable to estimate the amount it needed to set aside for legal reserves, which it previously set at $500m. It intends to adjust the way it accounts for a deal with German music publisher Bertelsmann's purchase of a stake in AOL Europe, which it had reported as advertising revenue. It will now book the sale of its stake in AOL Europe as a loss on the value of that stake.\n",
      "\n",
      "business\n"
     ]
    }
   ],
   "source": [
    "# Show an example\n",
    "print(X_data[0])\n",
    "print(y_data[0])"
   ],
   "metadata": {
    "collapsed": false,
    "pycharm": {
     "name": "#%%\n"
    }
   }
  },
  {
   "cell_type": "code",
   "execution_count": 8,
   "outputs": [
    {
     "name": "stdout",
     "output_type": "stream",
     "text": [
      "ad sale boost time warner profit quarterli profit media giant timewarn jump bn £ m month decemb m year earli firm biggest investor googl benefit sale high spe internet connect higher advert sale timewarn said fourth quarter sale rose bn bn profit buoy one off gain offset profit dip warner bro user aol time warner said friday search engin googl internet busi aol ha mix fortun lost subscrib fourth quarter profit lower preced quarter howev compani said aol s underli profit befor item rose stronger internet advertis revenu hope increas subscrib offer onlin servic free timewarn internet custom tri sign aol s exist custom high spe broadband timewarn ha restat result follow probe secur exchang commiss sec close conclud time warner s fourth quarter profit slightli better analyst expect film divis saw profit slump m help box offic flop alexand catwoman sharp contrast year earli final film lord ring trilog boost result full year timewarn post profit bn perform revenu grew bn financi perform wa strong meet exceed full year object greatli enhanc flexibl chairman chief execut richard parson said timewarn project oper earn growth expect higher revenu wider profit margin timewarn restat account effort resolv inquiri aol market regul ha alreadi offer pay m settl charg deal review sec compani said wa unabl estim need set asid legal reserv previous set m intend adjust way account deal german music publish bertelsmann s purchas stake aol europ report advertis revenu book sale stake aol europ loss valu stake \n"
     ]
    }
   ],
   "source": [
    "# Apply preprocessing in whole dataset\n",
    "X_data_preprocess = []\n",
    "for index,data in enumerate(X_data):\n",
    "    X_data_preprocess.append(clean_doc(data))\n",
    "\n",
    "# show one example\n",
    "print(X_data_preprocess[0])"
   ],
   "metadata": {
    "collapsed": false,
    "pycharm": {
     "name": "#%%\n"
    }
   }
  },
  {
   "cell_type": "code",
   "execution_count": 8,
   "outputs": [],
   "source": [
    "\n",
    "\n"
   ],
   "metadata": {
    "collapsed": false,
    "pycharm": {
     "name": "#%%\n"
    }
   }
  },
  {
   "cell_type": "code",
   "execution_count": 9,
   "outputs": [],
   "source": [
    "# ngram level tf-idf \n",
    "vectorizer = TfidfVectorizer(analyzer='word', ngram_range=(2,2))\n",
    "X_train_tfidf = vectorizer.fit_transform(X_data_preprocess)\n",
    "\n",
    "cv = KFold(n_splits=5, random_state=42, shuffle=True)\n"
   ],
   "metadata": {
    "collapsed": false,
    "pycharm": {
     "name": "#%%\n"
    }
   }
  },
  {
   "cell_type": "code",
   "execution_count": 10,
   "outputs": [
    {
     "name": "stdout",
     "output_type": "stream",
     "text": [
      "[0.87850467 0.91900312 0.9625     0.884375   0.903125  ]\n",
      "Accuracy: 0.910 (0.030)\n"
     ]
    }
   ],
   "source": [
    "# naive_bayes model \n",
    "from sklearn.naive_bayes import MultinomialNB\n",
    "model_naivebayes = MultinomialNB()\n",
    "\n",
    "# evaluate cross validation 5 folds of Naive Bayes model\n",
    "scores = cross_val_score(model_naivebayes, X_train_tfidf, y_data, scoring='accuracy', cv=cv)\n",
    "# report performance\n",
    "print(scores)\n",
    "print('Accuracy: %.3f (%.3f)' % (mean(scores), std(scores)))"
   ],
   "metadata": {
    "collapsed": false,
    "pycharm": {
     "name": "#%%\n"
    }
   }
  },
  {
   "cell_type": "code",
   "execution_count": 11,
   "outputs": [
    {
     "name": "stdout",
     "output_type": "stream",
     "text": [
      "[0.91900312 0.90965732 0.925      0.9        0.93125   ]\n",
      "Accuracy: 0.917 (0.011)\n"
     ]
    }
   ],
   "source": [
    "# K-nearest neighbors model \n",
    "from sklearn.neighbors import KNeighborsClassifier\n",
    "\n",
    "model_knn =  KNeighborsClassifier(n_neighbors=3)\n",
    "# evaluate cross validation 5 folds of KNeighborsClassifier model\n",
    "scores = cross_val_score(model_knn, X_train_tfidf, y_data, scoring='accuracy', cv=cv)\n",
    "# report performance\n",
    "print(scores)\n",
    "print('Accuracy: %.3f (%.3f)' % (mean(scores), std(scores)))"
   ],
   "metadata": {
    "collapsed": false,
    "pycharm": {
     "name": "#%%\n"
    }
   }
  },
  {
   "cell_type": "code",
   "execution_count": 12,
   "outputs": [
    {
     "name": "stdout",
     "output_type": "stream",
     "text": [
      "[0.65732087 0.72274143 0.725      0.759375   0.75625   ]\n",
      "Accuracy: 0.724 (0.037)\n"
     ]
    }
   ],
   "source": [
    "# Decision Tree model \n",
    "from sklearn.tree import DecisionTreeClassifier\n",
    "\n",
    "model_dt =  DecisionTreeClassifier(random_state=42)\n",
    "# evaluate cross validation 5 folds of KNeighborsClassifier model\n",
    "scores = cross_val_score(model_dt, X_train_tfidf, y_data, scoring='accuracy', cv=cv)\n",
    "# report performance\n",
    "print(scores)\n",
    "print('Accuracy: %.3f (%.3f)' % (mean(scores), std(scores)))"
   ],
   "metadata": {
    "collapsed": false,
    "pycharm": {
     "name": "#%%\n"
    }
   }
  },
  {
   "cell_type": "code",
   "execution_count": 13,
   "outputs": [
    {
     "name": "stdout",
     "output_type": "stream",
     "text": [
      "[0.91588785 0.91900312 0.940625   0.903125   0.946875  ]\n",
      "Accuracy: 0.925 (0.016)\n"
     ]
    }
   ],
   "source": [
    "# SVM model \n",
    "from sklearn.svm import SVC\n",
    "\n",
    "model_svm =  SVC(kernel=\"linear\",gamma='auto', C=1.0,probability=True)\n",
    "# evaluate cross validation 5 folds of SVM model\n",
    "scores = cross_val_score(model_svm, X_train_tfidf, y_data, scoring='accuracy', cv=cv)\n",
    "# report performance\n",
    "print(scores)''\n",
    "print('Accuracy: %.3f (%.3f)' % (mean(scores), std(scores)))"
   ],
   "metadata": {
    "collapsed": false,
    "pycharm": {
     "name": "#%%\n"
    }
   }
  },
  {
   "cell_type": "code",
   "execution_count": 14,
   "outputs": [
    {
     "name": "stdout",
     "output_type": "stream",
     "text": [
      "[0.95327103 0.95327103 0.95       0.95       0.971875  ]\n",
      "Accuracy: 0.956 (0.008)\n"
     ]
    }
   ],
   "source": [
    "from sklearn.ensemble import VotingClassifier\n",
    "\n",
    "soft_ensemble = VotingClassifier(estimators=[('svm', model_svm), ('knn', model_knn), ('nb', model_naivebayes)], voting='soft')\n",
    "\n",
    "# evaluate cross validation 5 folds of KNeighborsClassifier model\n",
    "scores = cross_val_score(soft_ensemble, X_train_tfidf, y_data, scoring='accuracy', cv=cv)\n",
    "# report performance\n",
    "print(scores)\n",
    "print('Accuracy: %.3f (%.3f)' % (mean(scores), std(scores)))"
   ],
   "metadata": {
    "collapsed": false,
    "pycharm": {
     "name": "#%%\n"
    }
   }
  },
  {
   "cell_type": "code",
   "execution_count": 15,
   "outputs": [
    {
     "data": {
      "text/plain": "VotingClassifier(estimators=[('svm',\n                              SVC(gamma='auto', kernel='linear',\n                                  probability=True)),\n                             ('knn', KNeighborsClassifier(n_neighbors=3)),\n                             ('nb', MultinomialNB())],\n                 voting='soft')"
     },
     "execution_count": 15,
     "metadata": {},
     "output_type": "execute_result"
    }
   ],
   "source": [
    "# Because soft_ensemble model has the highest score using cross-validation 5 fold. We will use this model to train data\n",
    "soft_ensemble.fit(X_train_tfidf, y_data)"
   ],
   "metadata": {
    "collapsed": false,
    "pycharm": {
     "name": "#%%\n"
    }
   }
  },
  {
   "cell_type": "code",
   "execution_count": 16,
   "outputs": [
    {
     "name": "stdout",
     "output_type": "stream",
     "text": [
      "Input: \n",
      "  Ad sales boost Time Warner profit\n",
      "\n",
      "Quarterly profits at US media giant TimeWarner jumped 76% to $1.13bn (£600m) for the three months to December, from $639m year-earlier.\n",
      "\n",
      "The firm, which is now one of the biggest investors in Google, benefited from sales of high-speed internet connections and higher advert sales. TimeWarner said fourth quarter sales rose 2% to $11.1bn from $10.9bn. Its profits were buoyed by one-off gains which offset a profit dip at Warner Bros, and less users for AOL.\n",
      "\n",
      "Time Warner said on Friday that it now owns 8% of search-engine Google. But its own internet business, AOL, had has mixed fortunes. It lost 464,000 subscribers in the fourth quarter profits were lower than in the preceding three quarters. However, the company said AOL's underlying profit before exceptional items rose 8% on the back of stronger internet advertising revenues. It hopes to increase subscribers by offering the online service free to TimeWarner internet customers and will try to sign up AOL's existing customers for high-speed broadband. TimeWarner also has to restate 2000 and 2003 results following a probe by the US Securities Exchange Commission (SEC), which is close to concluding.\n",
      "\n",
      "Time Warner's fourth quarter profits were slightly better than analysts' expectations. But its film division saw profits slump 27% to $284m, helped by box-office flops Alexander and Catwoman, a sharp contrast to year-earlier, when the third and final film in the Lord of the Rings trilogy boosted results. For the full-year, TimeWarner posted a profit of $3.36bn, up 27% from its 2003 performance, while revenues grew 6.4% to $42.09bn. \"Our financial performance was strong, meeting or exceeding all of our full-year objectives and greatly enhancing our flexibility,\" chairman and chief executive Richard Parsons said. For 2005, TimeWarner is projecting operating earnings growth of around 5%, and also expects higher revenue and wider profit margins.\n",
      "\n",
      "TimeWarner is to restate its accounts as part of efforts to resolve an inquiry into AOL by US market regulators. It has already offered to pay $300m to settle charges, in a deal that is under review by the SEC. The company said it was unable to estimate the amount it needed to set aside for legal reserves, which it previously set at $500m. It intends to adjust the way it accounts for a deal with German music publisher Bertelsmann's purchase of a stake in AOL Europe, which it had reported as advertising revenue. It will now book the sale of its stake in AOL Europe as a loss on the value of that stake.\n",
      "\n",
      "****************************************************************************************************\n",
      "Input Preprocessing: \n",
      "  ad sale boost time warner profit quarterli profit media giant timewarn jump bn £ m month decemb m year earli firm biggest investor googl benefit sale high spe internet connect higher advert sale timewarn said fourth quarter sale rose bn bn profit buoy one off gain offset profit dip warner bro user aol time warner said friday search engin googl internet busi aol ha mix fortun lost subscrib fourth quarter profit lower preced quarter howev compani said aol s underli profit befor item rose stronger internet advertis revenu hope increas subscrib offer onlin servic free timewarn internet custom tri sign aol s exist custom high spe broadband timewarn ha restat result follow probe secur exchang commiss sec close conclud time warner s fourth quarter profit slightli better analyst expect film divis saw profit slump m help box offic flop alexand catwoman sharp contrast year earli final film lord ring trilog boost result full year timewarn post profit bn perform revenu grew bn financi perform wa strong meet exceed full year object greatli enhanc flexibl chairman chief execut richard parson said timewarn project oper earn growth expect higher revenu wider profit margin timewarn restat account effort resolv inquiri aol market regul ha alreadi offer pay m settl charg deal review sec compani said wa unabl estim need set asid legal reserv previous set m intend adjust way account deal german music publish bertelsmann s purchas stake aol europ report advertis revenu book sale stake aol europ loss valu stake \n",
      "****************************************************************************************************\n",
      "Model predict:  business\n",
      "True Label:  business\n"
     ]
    }
   ],
   "source": [
    "# Demo with the example in the dataset\n",
    "input_demo = X_data[0]\n",
    "input_clean = clean_doc(input_demo)\n",
    "input_tfidf = vectorizer.transform([input_clean])\n",
    "predict = soft_ensemble.predict(input_tfidf)\n",
    "###########################################\n",
    "print(\"Input: \\n \", input_demo)\n",
    "print(\"*\"*100)\n",
    "print(\"Input Preprocessing: \\n \", input_clean)\n",
    "print(\"*\"*100)\n",
    "print(\"Model predict: \", predict[0])\n",
    "print(\"True Label: \", y_data[0])"
   ],
   "metadata": {
    "collapsed": false,
    "pycharm": {
     "name": "#%%\n"
    }
   }
  },
  {
   "cell_type": "code",
   "execution_count": 24,
   "outputs": [
    {
     "name": "stdout",
     "output_type": "stream",
     "text": [
      "Input: \n",
      "  A global agreement to end the race to the bottom on corporate taxation is within sight, according to the French and German finance ministers. France's Bruno le Maire told the BBC the G7 club of rich nations were just one millimetre away from a historic agreement on a global minimum rate. He urged low tax states like Ireland to back a deal which would target tech giants such as Amazon and Microsoft. The German finance minister said a 15% rate would help pay back Covid debt Tax on big tech and multi-nationals has been a source of friction between the US and fellow G7 countries such as the UK. German finance minister Olaf Scholz said it was important to stop the world's biggest companies from dodging tax. He said it was absolutely necessary to reach a deal in order to get out of this race to the bottom we see with taxes today…especially after the Covid crisis and all the money we spent to defend the health of the people, and to defend the economy.Mr Le Maire also urged Ireland, which has one of the lowest corporate tax rates in the European Union, at 12.5%, to get on board He added: European countries, that in the past, opposed this new international tax system, must understand that they have to give the agreement to this major breakthrough\n",
      "****************************************************************************************************\n",
      "Input Preprocessing: \n",
      "  a global agreement end race corporate taxation sight according french german finance ministers france s bruno le maire told bbc g club rich nations just millimetre away historic agreement global minimum rate he urged low tax states like ireland deal target tech giants amazon microsoft the german finance minister said rate help pay covid debt tax big tech multi nationals source friction us fellow g countries uk german finance minister olaf scholz said important stop world s biggest companies dodging tax he said absolutely necessary reach deal order race taxes today…especially covid crisis money spent defend health people defend economy mr le maire urged ireland lowest corporate tax rates european union board he added european countries past opposed new international tax system understand agreement major breakthrough\n",
      "****************************************************************************************************\n",
      "Model predict:  business\n"
     ]
    }
   ],
   "source": [
    "# Demo with the input text\n",
    "input_demo = \"A global agreement to end the race to the bottom on corporate taxation is within sight, according to the French and German finance ministers. France's Bruno le Maire told the BBC the G7 club of rich nations were just one millimetre away from a historic agreement on a global minimum rate. He urged low tax states like Ireland to back a deal which would target tech giants such as Amazon and Microsoft. The German finance minister said a 15% rate would help pay back Covid debt Tax on big tech and multi-nationals has been a source of friction between the US and fellow G7 countries such as the UK. German finance minister Olaf Scholz said it was important to stop the world's biggest companies from dodging tax. He said it was absolutely necessary to reach a deal in order to get out of this race to the bottom we see with taxes today…especially after the Covid crisis and all the money we spent to defend the health of the people, and to defend the economy.Mr Le Maire also urged Ireland, which has one of the lowest corporate tax rates in the European Union, at 12.5%, to get on board He added: European countries, that in the past, opposed this new international tax system, must understand that they have to give the agreement to this major breakthrough\"\n",
    "input_clean = clean_doc(input_demo)\n",
    "input_tfidf = vectorizer.transform([input_clean])\n",
    "predict = soft_ensemble.predict(input_tfidf)\n",
    "###########################################\n",
    "print(\"Input: \\n \", input_demo)\n",
    "print(\"*\"*100)\n",
    "print(\"Input Preprocessing: \\n \", input_clean)\n",
    "print(\"*\"*100)\n",
    "print(\"Model predict: \", predict[0])"
   ],
   "metadata": {
    "collapsed": false,
    "pycharm": {
     "name": "#%%\n"
    }
   }
  },
  {
   "cell_type": "code",
   "execution_count": 18,
   "outputs": [
    {
     "name": "stdout",
     "output_type": "stream",
     "text": [
      "Input: \n",
      "  He added: \"The best scientific advice I have at this stage, is that after one jab it's not quite as effective against the new Delta variant, but after both jabs it is.\n",
      "\n",
      "\"So that's why it's so important that we drive through these vaccinations and people come forward for their second jab.\"\n",
      "\n",
      "Ministers will \"look at the data for another week then make a judgement\" on if the lifting of restrictions could proceed as planned, he added.\n",
      "\n",
      "The government's scientific advisory group for emergencies (Sage) had previously said there was a \"realistic possibility\" the Delta variant could spread 50% faster.\n",
      "\n",
      "The Sage documents estimated that if the variant were to be 40-50% more transmissible it \"would lead to a substantial resurgence of hospitalisations\" and put pressure on the NHS.\n",
      "\n",
      "Asked whether some measures, such as the wearing of face coverings and working from home, might need to remain in place, Mr Hancock said: \"I wouldn't rule that out.\n",
      "\n",
      "\"The way we are looking at this is step four [of the roadmap] involves the removing of the remaining social restrictions like the rule of six and some of the business closures which are still there.\"\n",
      "\n",
      "Mr Hancock also said reviews into social distancing measures and domestic vaccination passports were ongoing.\n",
      "\n",
      "In other developments:\n",
      "\n",
      "Former prime minister Tony Blair called for people who have had both Covid jabs to get extra freedoms, including the right to travel abroad more easily. This would encourage more vaccinations, he told BBC One's Andrew Marr Show\n",
      "People under the age of 30 in England will be invited to have a coronavirus vaccine this week, the health secretary said\n",
      "Mr Hancock urged secondary school pupils in England to take a Covid test before they return to school after the half-term break\n",
      "Prime Minister Boris Johnson will urge leaders of other wealthy countries to commit to vaccinating the world against Covid by the end of next year at a summit of the G7 group on Friday\n",
      "Charities have criticised the UK government's cuts to foreign aid spending, saying they have caused \"devastation\" that could undermine the UK's credibility at the G7 summit\n",
      "****************************************************************************************************\n",
      "Input Preprocessing: \n",
      "  ad best scientif advic thi stage jab s quit effect new delta variant jab s whi s import drive vaccin peopl come forward second jab minist look data anoth week make judgement lift restrict proceed plan ad govern s scientif advisori group emerg sage previous said wa realist possibl delta variant spread faster sage document estim variant transmiss lead substanti resurg hospitalis pressur nh ask measur wear face cover work home need remain place mr hancock said n t rule way look thi step roadmap involv remov remain social restrict like rule busi closur mr hancock said review social distanc measur domest vaccin passport ongo develop prime minist toni blair peopl covid jab extra freedom includ right travel abroad easili thi encourag vaccin told bbc s andrew marr peopl age england invit coronaviru vaccin thi week health secretari said mr hancock urg secondari school pupil england covid test befor return school half term break prime minist bori johnson urg leader wealthi countri commit vaccin world covid end year summit g group friday chariti criticis uk govern s cut foreign aid spend say caus devast undermin uk s credibl g summit \n",
      "****************************************************************************************************\n",
      "Model predict:  politics\n"
     ]
    }
   ],
   "source": [
    "# Demo with the file  text\n",
    "path_file = \"test/test1.txt\"\n",
    "with open(path_file, \"r\", encoding=\"utf8\") as file:\n",
    "  input_demo = file.read()\n",
    "input_clean = clean_doc(input_demo)\n",
    "input_tfidf = vectorizer.transform([input_clean])\n",
    "predict = soft_ensemble.predict(input_tfidf)\n",
    "###########################################\n",
    "print(\"Input: \\n \", input_demo)\n",
    "print(\"*\"*100)\n",
    "print(\"Input Preprocessing: \\n \", input_clean)\n",
    "print(\"*\"*100)\n",
    "print(\"Model predict: \", predict[0])"
   ],
   "metadata": {
    "collapsed": false,
    "pycharm": {
     "name": "#%%\n"
    }
   }
  },
  {
   "cell_type": "code",
   "execution_count": null,
   "outputs": [],
   "source": [],
   "metadata": {
    "collapsed": false,
    "pycharm": {
     "name": "#%%\n"
    }
   }
  }
 ],
 "metadata": {
  "colab": {
   "collapsed_sections": [],
   "name": "Classification NLP.ipynb",
   "private_outputs": true,
   "provenance": []
  },
  "kernelspec": {
   "display_name": "Python 3",
   "language": "python",
   "name": "python3"
  },
  "language_info": {
   "codemirror_mode": {
    "name": "ipython",
    "version": 3
   },
   "file_extension": ".py",
   "mimetype": "text/x-python",
   "name": "python",
   "nbconvert_exporter": "python",
   "pygments_lexer": "ipython3",
   "version": "3.8.3"
  }
 },
 "nbformat": 4,
 "nbformat_minor": 1
}